{
 "cells": [
  {
   "cell_type": "markdown",
   "id": "ffe60fd7",
   "metadata": {},
   "source": [
    "Import the necessary libraries:"
   ]
  },
  {
   "cell_type": "code",
   "execution_count": 16,
   "id": "f30944c6",
   "metadata": {},
   "outputs": [],
   "source": [
    "import pandas as pd\n"
   ]
  },
  {
   "cell_type": "markdown",
   "id": "47576311",
   "metadata": {},
   "source": [
    "Load the dataset into a Pandas DataFrame:"
   ]
  },
  {
   "cell_type": "code",
   "execution_count": 17,
   "id": "842e6921",
   "metadata": {},
   "outputs": [],
   "source": [
    "data = pd.read_csv(\"C:\\\\Users\\\\Narthana\\\\Downloads\\\\HR-Employee-Attrition.csv\")\n"
   ]
  },
  {
   "cell_type": "markdown",
   "id": "fd091fc2",
   "metadata": {},
   "source": [
    "Data Cleaning:"
   ]
  },
  {
   "cell_type": "markdown",
   "id": "1d474026",
   "metadata": {},
   "source": [
    "a. Deleting redundant columns:"
   ]
  },
  {
   "cell_type": "code",
   "execution_count": 18,
   "id": "37959033",
   "metadata": {},
   "outputs": [],
   "source": [
    "columns_to_drop = ['EmployeeCount', 'EmployeeNumber', 'Over18', 'StandardHours']\n",
    "data.drop(columns=columns_to_drop, inplace=True)\n"
   ]
  },
  {
   "cell_type": "markdown",
   "id": "4dc0d921",
   "metadata": {},
   "source": [
    "b. Renaming the columns:"
   ]
  },
  {
   "cell_type": "code",
   "execution_count": 19,
   "id": "b7c6fd31",
   "metadata": {},
   "outputs": [],
   "source": [
    "column_mapping = {\n",
    "    'Age': 'Age',\n",
    "    'Attrition': 'Attrition',\n",
    "    'BusinessTravel': 'BusinessTravel',\n",
    "    'DailyRate': 'DailyRate',\n",
    "    'Department': 'Department',\n",
    "}\n",
    "data.rename(columns=column_mapping, inplace=True)\n"
   ]
  },
  {
   "cell_type": "markdown",
   "id": "81d8dfa5",
   "metadata": {},
   "source": [
    "c. Dropping duplicates:"
   ]
  },
  {
   "cell_type": "code",
   "execution_count": 20,
   "id": "4d724c50",
   "metadata": {},
   "outputs": [],
   "source": [
    "data.drop_duplicates(inplace=True)\n"
   ]
  },
  {
   "cell_type": "markdown",
   "id": "5817e3c1",
   "metadata": {},
   "source": [
    "d. Cleaning individual columns:"
   ]
  },
  {
   "cell_type": "code",
   "execution_count": 21,
   "id": "79fbd700",
   "metadata": {},
   "outputs": [],
   "source": [
    "data['Attrition'] = data['Attrition'].str.lower()\n"
   ]
  },
  {
   "cell_type": "markdown",
   "id": "e5824bc1",
   "metadata": {},
   "source": [
    "e. Remove NaN values:"
   ]
  },
  {
   "cell_type": "code",
   "execution_count": 22,
   "id": "96de313c",
   "metadata": {},
   "outputs": [],
   "source": [
    "data.dropna(inplace=True)\n"
   ]
  },
  {
   "cell_type": "markdown",
   "id": "65028849",
   "metadata": {},
   "source": [
    "Feature Scaling:"
   ]
  },
  {
   "cell_type": "code",
   "execution_count": 23,
   "id": "b642fe43",
   "metadata": {},
   "outputs": [],
   "source": [
    "from sklearn.preprocessing import StandardScaler\n",
    "\n",
    "scaler = StandardScaler()\n",
    "numerical_columns = ['Age', 'DailyRate', 'HourlyRate', 'MonthlyIncome', 'PercentSalaryHike', 'TotalWorkingYears', 'YearsAtCompany']\n",
    "data[numerical_columns] = scaler.fit_transform(data[numerical_columns])\n"
   ]
  },
  {
   "cell_type": "markdown",
   "id": "9974f4b4",
   "metadata": {},
   "source": [
    "One-Hot Encoding:"
   ]
  },
  {
   "cell_type": "code",
   "execution_count": 24,
   "id": "82f0c4ed",
   "metadata": {},
   "outputs": [],
   "source": [
    "data = pd.get_dummies(data, columns=['BusinessTravel', 'Department', 'Gender'], drop_first=True)\n"
   ]
  },
  {
   "cell_type": "markdown",
   "id": "76d938a6",
   "metadata": {},
   "source": [
    "Feature Engineering:"
   ]
  },
  {
   "cell_type": "code",
   "execution_count": 27,
   "id": "1abe2b43",
   "metadata": {},
   "outputs": [],
   "source": [
    "data['Tenure'] = data['YearsInCurrentRole'] + data['YearsSinceLastPromotion'] + data['YearsWithCurrManager']\n"
   ]
  },
  {
   "cell_type": "markdown",
   "id": "a641fa7a",
   "metadata": {},
   "source": [
    "Binning:"
   ]
  },
  {
   "cell_type": "code",
   "execution_count": 25,
   "id": "e0c151a1",
   "metadata": {},
   "outputs": [],
   "source": [
    "data['AgeCategory'] = pd.cut(data['Age'], bins=[20, 30, 40, 50, 60, 70], labels=['20-29', '30-39', '40-49', '50-59', '60-69'])\n"
   ]
  },
  {
   "cell_type": "markdown",
   "id": "3ab4b1e0",
   "metadata": {},
   "source": [
    "Save the cleaned dataset"
   ]
  },
  {
   "cell_type": "code",
   "execution_count": 26,
   "id": "16ad3500",
   "metadata": {},
   "outputs": [],
   "source": [
    "data.to_csv('cleaned_dataset.csv', index=False)\n"
   ]
  }
 ],
 "metadata": {
  "kernelspec": {
   "display_name": "Python 3 (ipykernel)",
   "language": "python",
   "name": "python3"
  },
  "language_info": {
   "codemirror_mode": {
    "name": "ipython",
    "version": 3
   },
   "file_extension": ".py",
   "mimetype": "text/x-python",
   "name": "python",
   "nbconvert_exporter": "python",
   "pygments_lexer": "ipython3",
   "version": "3.10.9"
  }
 },
 "nbformat": 4,
 "nbformat_minor": 5
}
